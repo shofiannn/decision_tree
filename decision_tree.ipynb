{
 "cells": [
  {
   "cell_type": "code",
   "execution_count": 1,
   "metadata": {},
   "outputs": [],
   "source": [
    "import pandas as pd\n",
    "import numpy as np\n",
    "import seaborn as sns\n",
    "import matplotlib.pyplot as plt"
   ]
  },
  {
   "cell_type": "code",
   "execution_count": 2,
   "metadata": {},
   "outputs": [
    {
     "data": {
      "text/html": [
       "<div>\n",
       "<style scoped>\n",
       "    .dataframe tbody tr th:only-of-type {\n",
       "        vertical-align: middle;\n",
       "    }\n",
       "\n",
       "    .dataframe tbody tr th {\n",
       "        vertical-align: top;\n",
       "    }\n",
       "\n",
       "    .dataframe thead th {\n",
       "        text-align: right;\n",
       "    }\n",
       "</style>\n",
       "<table border=\"1\" class=\"dataframe\">\n",
       "  <thead>\n",
       "    <tr style=\"text-align: right;\">\n",
       "      <th></th>\n",
       "      <th>mpg</th>\n",
       "      <th>cylinders</th>\n",
       "      <th>cubicinches</th>\n",
       "      <th>hp</th>\n",
       "      <th>weightlbs</th>\n",
       "      <th>time-to-60</th>\n",
       "      <th>year</th>\n",
       "      <th>brand</th>\n",
       "    </tr>\n",
       "  </thead>\n",
       "  <tbody>\n",
       "    <tr>\n",
       "      <th>0</th>\n",
       "      <td>14.0</td>\n",
       "      <td>8</td>\n",
       "      <td>350</td>\n",
       "      <td>165</td>\n",
       "      <td>4209</td>\n",
       "      <td>12</td>\n",
       "      <td>1972</td>\n",
       "      <td>US.</td>\n",
       "    </tr>\n",
       "    <tr>\n",
       "      <th>1</th>\n",
       "      <td>31.9</td>\n",
       "      <td>4</td>\n",
       "      <td>89</td>\n",
       "      <td>71</td>\n",
       "      <td>1925</td>\n",
       "      <td>14</td>\n",
       "      <td>1980</td>\n",
       "      <td>Europe.</td>\n",
       "    </tr>\n",
       "    <tr>\n",
       "      <th>2</th>\n",
       "      <td>17.0</td>\n",
       "      <td>8</td>\n",
       "      <td>302</td>\n",
       "      <td>140</td>\n",
       "      <td>3449</td>\n",
       "      <td>11</td>\n",
       "      <td>1971</td>\n",
       "      <td>US.</td>\n",
       "    </tr>\n",
       "    <tr>\n",
       "      <th>3</th>\n",
       "      <td>15.0</td>\n",
       "      <td>8</td>\n",
       "      <td>400</td>\n",
       "      <td>150</td>\n",
       "      <td>3761</td>\n",
       "      <td>10</td>\n",
       "      <td>1971</td>\n",
       "      <td>US.</td>\n",
       "    </tr>\n",
       "    <tr>\n",
       "      <th>4</th>\n",
       "      <td>30.5</td>\n",
       "      <td>4</td>\n",
       "      <td>98</td>\n",
       "      <td>63</td>\n",
       "      <td>2051</td>\n",
       "      <td>17</td>\n",
       "      <td>1978</td>\n",
       "      <td>US.</td>\n",
       "    </tr>\n",
       "  </tbody>\n",
       "</table>\n",
       "</div>"
      ],
      "text/plain": [
       "    mpg   cylinders  cubicinches   hp  weightlbs   time-to-60   year     brand\n",
       "0  14.0           8          350  165       4209           12   1972       US.\n",
       "1  31.9           4           89   71       1925           14   1980   Europe.\n",
       "2  17.0           8          302  140       3449           11   1971       US.\n",
       "3  15.0           8          400  150       3761           10   1971       US.\n",
       "4  30.5           4           98   63       2051           17   1978       US."
      ]
     },
     "execution_count": 2,
     "metadata": {},
     "output_type": "execute_result"
    }
   ],
   "source": [
    "df = pd.read_csv('cars.csv')\n",
    "df.head()"
   ]
  },
  {
   "cell_type": "code",
   "execution_count": 3,
   "metadata": {},
   "outputs": [
    {
     "data": {
      "text/plain": [
       "mpg             float64\n",
       " cylinders        int64\n",
       " cubicinches     object\n",
       " hp               int64\n",
       " weightlbs       object\n",
       " time-to-60       int64\n",
       " year             int64\n",
       " brand           object\n",
       "dtype: object"
      ]
     },
     "execution_count": 3,
     "metadata": {},
     "output_type": "execute_result"
    }
   ],
   "source": [
    "df.dtypes"
   ]
  },
  {
   "cell_type": "code",
   "execution_count": 4,
   "metadata": {},
   "outputs": [],
   "source": [
    "df[' cubicinches'] = pd.to_numeric(df[' cubicinches'], errors='coerce')\n",
    "df[' weightlbs'] = pd.to_numeric(df[' weightlbs'], errors='coerce')"
   ]
  },
  {
   "cell_type": "code",
   "execution_count": 5,
   "metadata": {},
   "outputs": [
    {
     "data": {
      "text/plain": [
       "mpg             0\n",
       " cylinders      0\n",
       " cubicinches    2\n",
       " hp             0\n",
       " weightlbs      3\n",
       " time-to-60     0\n",
       " year           0\n",
       " brand          0\n",
       "dtype: int64"
      ]
     },
     "execution_count": 5,
     "metadata": {},
     "output_type": "execute_result"
    }
   ],
   "source": [
    "df.isna().sum()"
   ]
  },
  {
   "cell_type": "code",
   "execution_count": 6,
   "metadata": {},
   "outputs": [],
   "source": [
    "df.dropna(inplace=True)"
   ]
  },
  {
   "cell_type": "code",
   "execution_count": 7,
   "metadata": {},
   "outputs": [
    {
     "data": {
      "text/plain": [
       "np.int64(0)"
      ]
     },
     "execution_count": 7,
     "metadata": {},
     "output_type": "execute_result"
    }
   ],
   "source": [
    "df.duplicated().sum()"
   ]
  },
  {
   "cell_type": "code",
   "execution_count": 8,
   "metadata": {},
   "outputs": [],
   "source": [
    "mappings = {}\n",
    "for col in df.select_dtypes(include='object'):\n",
    "    unique_labels = df[col].unique()\n",
    "    value_to_label = {key: value for value, key in enumerate(unique_labels)}\n",
    "    mappings[col] = value_to_label\n",
    "    df[col] = df[col].map(value_to_label)"
   ]
  },
  {
   "cell_type": "code",
   "execution_count": 9,
   "metadata": {},
   "outputs": [],
   "source": [
    "x = df.drop(columns = ' brand')\n",
    "y = df[' brand']"
   ]
  },
  {
   "cell_type": "code",
   "execution_count": 10,
   "metadata": {},
   "outputs": [],
   "source": [
    "# x"
   ]
  },
  {
   "cell_type": "code",
   "execution_count": 11,
   "metadata": {},
   "outputs": [
    {
     "name": "stdout",
     "output_type": "stream",
     "text": [
      "(204, 7)\n",
      "(52, 7)\n",
      "(204,)\n",
      "(52,)\n"
     ]
    }
   ],
   "source": [
    "np.random.seed(0)\n",
    "train_size = int(len(x) * 0.8)\n",
    "idx = np.random.permutation(len(x))\n",
    "\n",
    "x_train, x_test = x.iloc[idx[:train_size]], x.iloc[idx[train_size:]]\n",
    "y_train, y_test = y.iloc[idx[:train_size]], y.iloc[idx[train_size:]]\n",
    "\n",
    "print(x_train.shape)\n",
    "print(x_test.shape)\n",
    "print(y_train.shape)\n",
    "print(y_test.shape)"
   ]
  },
  {
   "cell_type": "code",
   "execution_count": 12,
   "metadata": {},
   "outputs": [],
   "source": [
    "train_df = pd.concat([x_train, y_train], axis=1)"
   ]
  },
  {
   "cell_type": "code",
   "execution_count": 13,
   "metadata": {},
   "outputs": [
    {
     "data": {
      "text/plain": [
       " brand\n",
       "0    136\n",
       "1     35\n",
       "2     33\n",
       "Name: count, dtype: int64"
      ]
     },
     "execution_count": 13,
     "metadata": {},
     "output_type": "execute_result"
    }
   ],
   "source": [
    "train_df[' brand'].value_counts()"
   ]
  },
  {
   "cell_type": "code",
   "execution_count": 14,
   "metadata": {},
   "outputs": [
    {
     "name": "stdout",
     "output_type": "stream",
     "text": [
      " brand\n",
      "0    136\n",
      "2    100\n",
      "1    100\n",
      "Name: count, dtype: int64\n"
     ]
    }
   ],
   "source": [
    "from imblearn.over_sampling import SMOTE\n",
    "\n",
    "# Separate features and target\n",
    "X_train = train_df.drop(columns=[col])\n",
    "y_train = train_df[col]\n",
    "\n",
    "# Apply SMOTE to oversample classes 1 and 2\n",
    "smote = SMOTE(sampling_strategy={1: 100, 2: 100}, random_state=42)\n",
    "X_res, y_res = smote.fit_resample(X_train, y_train)\n",
    "\n",
    "# Combine the oversampled data back into a DataFrame\n",
    "train_df = pd.concat([pd.DataFrame(X_res, columns=X_train.columns), pd.DataFrame(y_res, columns=[col])], axis=1)\n",
    "\n",
    "print(train_df[col].value_counts())"
   ]
  },
  {
   "cell_type": "code",
   "execution_count": 15,
   "metadata": {},
   "outputs": [],
   "source": [
    "# class_0_indices = train_df[train_df[' brand'] == 0].index\n",
    "# indices_to_remove = np.random.choice(class_0_indices, size=(len(class_0_indices) - 100), replace=False)\n",
    "# train_df = train_df.drop(indices_to_remove)\n",
    "# print(train_df[' brand'].value_counts())"
   ]
  },
  {
   "cell_type": "code",
   "execution_count": 16,
   "metadata": {},
   "outputs": [],
   "source": [
    "x_train1 = train_df.drop(columns=' brand')\n",
    "y_train1 = train_df[' brand']"
   ]
  },
  {
   "cell_type": "code",
   "execution_count": 17,
   "metadata": {},
   "outputs": [],
   "source": [
    "from collections import Counter\n",
    "import random"
   ]
  },
  {
   "cell_type": "code",
   "execution_count": 18,
   "metadata": {},
   "outputs": [],
   "source": [
    "class Node:\n",
    "    def __init__(self, gini, num_samples, num_samples_per_class, predicted_class):\n",
    "        self.gini = gini\n",
    "        self.num_samples = num_samples\n",
    "        self.num_samples_per_class = num_samples_per_class\n",
    "        self.predicted_class = predicted_class\n",
    "        self.feature_index = 0\n",
    "        self.threshold = 0\n",
    "        self.left = None\n",
    "        self.right = None\n",
    "\n",
    "def gini_index(y):\n",
    "    m = len(y)\n",
    "    return 1.0 - sum((np.sum(y == c) / m) ** 2 for c in np.unique(y))\n",
    "\n",
    "def entropy(y):\n",
    "    m = len(y)\n",
    "    return -sum((np.sum(y == c) / m) * np.log2(np.sum(y == c) / m) for c in np.unique(y))\n",
    "\n",
    "def grow_tree(X, y, depth=0, max_depth=5, min_samples_split=2, min_samples_leaf=1, criterion='gini', splitter='best'):\n",
    "    num_samples_per_class = [np.sum(y == i) for i in np.unique(y)]  # jumlah per kelas\n",
    "    predicted_class = np.argmax(num_samples_per_class)  # kelas yang paling banyak\n",
    "    node = Node(\n",
    "        gini=gini_index(y) if criterion == 'gini' else entropy(y),\n",
    "        num_samples=len(y),\n",
    "        num_samples_per_class=num_samples_per_class,\n",
    "        predicted_class=predicted_class,\n",
    "    )\n",
    "\n",
    "    if depth < max_depth and len(y) >= min_samples_split:\n",
    "        idx, thr = best_split(X, y, min_samples_leaf, criterion, splitter)\n",
    "        if idx is not None:\n",
    "            indices_left = X[:, idx] < thr\n",
    "            X_left, y_left = X[indices_left], y[indices_left]\n",
    "            X_right, y_right = X[~indices_left], y[~indices_left]\n",
    "            node.feature_index = idx\n",
    "            node.threshold = thr\n",
    "            node.left = grow_tree(X_left, y_left, depth + 1, max_depth, min_samples_split, min_samples_leaf, criterion, splitter)\n",
    "            node.right = grow_tree(X_right, y_right, depth + 1, max_depth, min_samples_split, min_samples_leaf, criterion, splitter)\n",
    "    return node\n",
    "\n",
    "def best_split(X, y, min_samples_leaf, criterion='gini', splitter='best'):\n",
    "    m, n = X.shape\n",
    "    if m <= 1:\n",
    "        return None, None\n",
    "\n",
    "    num_parent = [np.sum(y == c) for c in np.unique(y)]\n",
    "    best_gini = 1.0 - sum((num / m) ** 2 for num in num_parent) if criterion == 'gini' else entropy(y)\n",
    "    best_idx, best_thr = None, None\n",
    "\n",
    "    if splitter == 'best':\n",
    "        feature_indices = range(n)\n",
    "    elif splitter == 'random':\n",
    "        np.random.seed(0)\n",
    "        feature_indices = np.random.choice(n, size=max(1, n // 2), replace=False)\n",
    "    else:\n",
    "        raise ValueError(\"splitter must be 'best' or 'random'\")\n",
    "\n",
    "    for idx in feature_indices:\n",
    "        thresholds, classes = zip(*sorted(zip(X[:, idx], y)))\n",
    "        num_left = Counter()\n",
    "        num_right = Counter(num_parent)\n",
    "        for i in range(1, m):\n",
    "            c = classes[i - 1]\n",
    "            num_left[c] += 1\n",
    "            num_right[c] -= 1\n",
    "            if i < min_samples_leaf or m - i < min_samples_leaf:\n",
    "                continue\n",
    "            gini_left = 1.0 - sum((num_left[x] / i) ** 2 for x in num_left) if criterion == 'gini' else entropy(list(num_left.elements()))\n",
    "            gini_right = 1.0 - sum((num_right[x] / (m - i)) ** 2 for x in num_right) if criterion == 'gini' else entropy(list(num_right.elements()))\n",
    "            gini = (i * gini_left + (m - i) * gini_right) / m\n",
    "\n",
    "            if thresholds[i] == thresholds[i - 1]:\n",
    "                continue\n",
    "\n",
    "            if gini < best_gini:\n",
    "                best_gini = gini\n",
    "                best_idx = idx\n",
    "                best_thr = (thresholds[i] + thresholds[i - 1]) / 2\n",
    "    return best_idx, best_thr"
   ]
  },
  {
   "cell_type": "code",
   "execution_count": 19,
   "metadata": {},
   "outputs": [],
   "source": [
    "class DecisionTreeClassifierFromScratch:\n",
    "    def __init__(self, max_depth=5, min_samples_leaf=1, criterion='gini', splitter='best'):\n",
    "        self.max_depth = max_depth\n",
    "        self.min_samples_leaf = min_samples_leaf\n",
    "        self.criterion = criterion\n",
    "        self.splitter = splitter\n",
    "        self.tree = None\n",
    "\n",
    "    def fit(self, X, y):\n",
    "        self.tree = grow_tree(X, y, max_depth=self.max_depth, min_samples_split=2, min_samples_leaf=self.min_samples_leaf, criterion=self.criterion, splitter=self.splitter)\n",
    "\n",
    "    def predict(self, X):\n",
    "        return [self._predict(inputs) for inputs in X]\n",
    "\n",
    "    def _predict(self, inputs):\n",
    "        node = self.tree\n",
    "        while node.left:\n",
    "            if inputs[node.feature_index] < node.threshold:\n",
    "                node = node.left\n",
    "            else:\n",
    "                node = node.right\n",
    "        return node.predicted_class"
   ]
  },
  {
   "cell_type": "code",
   "execution_count": 20,
   "metadata": {},
   "outputs": [
    {
     "name": "stdout",
     "output_type": "stream",
     "text": [
      "Accuracy: 69.23%\n"
     ]
    }
   ],
   "source": [
    "model = DecisionTreeClassifierFromScratch(max_depth=4, min_samples_leaf=10, criterion='entropy', splitter='best')\n",
    "model.fit(x_train1.values, y_train1.values)\n",
    "y_pred = model.predict(x_test.values)\n",
    "accuracy = np.mean(y_test == y_pred)\n",
    "print(f'Accuracy: {accuracy * 100 :.2f}%')"
   ]
  },
  {
   "cell_type": "code",
   "execution_count": 21,
   "metadata": {},
   "outputs": [
    {
     "data": {
      "image/png": "[encoded data removed]",
      "text/plain": [
       "<Figure size 640x480 with 1 Axes>"
      ]
     },
     "metadata": {},
     "output_type": "display_data"
    }
   ],
   "source": [
    "import networkx as nx\n",
    "\n",
    "import matplotlib.pyplot as plt\n",
    "\n",
    "def add_edges(graph, node, pos=None, x=0, y=0, layer=1):\n",
    "    if pos is None:\n",
    "        pos = {}\n",
    "    pos[node] = (x, y)\n",
    "    if node.left:\n",
    "        graph.add_edge(node, node.left)\n",
    "        l = x - 1 / layer\n",
    "        pos = add_edges(graph, node.left, x=l, y=y-1, pos=pos, layer=layer+1)\n",
    "    if node.right:\n",
    "        graph.add_edge(node, node.right)\n",
    "        r = x + 1 / layer\n",
    "        pos = add_edges(graph, node.right, x=r, y=y-1, pos=pos, layer=layer+1)\n",
    "    return pos\n",
    "\n",
    "def draw_tree(tree):\n",
    "    graph = nx.DiGraph()\n",
    "    pos = add_edges(graph, tree)\n",
    "    labels = {node: f'Gini: {node.gini:.2f}\\nSamples: {node.num_samples}\\nValue: {node.num_samples_per_class}\\nClass: {node.predicted_class}' for node in pos}\n",
    "    nx.draw(graph, pos, with_labels=True, labels=labels, node_size=3000, node_color='skyblue', font_size=8, font_weight='bold', arrows=False)\n",
    "    plt.show()\n",
    "\n",
    "draw_tree(model.tree)"
   ]
  },
  {
   "cell_type": "code",
   "execution_count": 27,
   "metadata": {},
   "outputs": [
    {
     "data": {
      "text/html": [
       "<div>\n",
       "<style scoped>\n",
       "    .dataframe tbody tr th:only-of-type {\n",
       "        vertical-align: middle;\n",
       "    }\n",
       "\n",
       "    .dataframe tbody tr th {\n",
       "        vertical-align: top;\n",
       "    }\n",
       "\n",
       "    .dataframe thead th {\n",
       "        text-align: right;\n",
       "    }\n",
       "</style>\n",
       "<table border=\"1\" class=\"dataframe\">\n",
       "  <thead>\n",
       "    <tr style=\"text-align: right;\">\n",
       "      <th></th>\n",
       "      <th>mpg</th>\n",
       "      <th>cylinders</th>\n",
       "      <th>cubicinches</th>\n",
       "      <th>hp</th>\n",
       "      <th>weightlbs</th>\n",
       "      <th>time-to-60</th>\n",
       "      <th>year</th>\n",
       "      <th>brand</th>\n",
       "    </tr>\n",
       "  </thead>\n",
       "  <tbody>\n",
       "    <tr>\n",
       "      <th>0</th>\n",
       "      <td>14.0</td>\n",
       "      <td>8</td>\n",
       "      <td>350.0</td>\n",
       "      <td>165</td>\n",
       "      <td>4209.0</td>\n",
       "      <td>12</td>\n",
       "      <td>1972</td>\n",
       "      <td>0</td>\n",
       "    </tr>\n",
       "    <tr>\n",
       "      <th>2</th>\n",
       "      <td>17.0</td>\n",
       "      <td>8</td>\n",
       "      <td>302.0</td>\n",
       "      <td>140</td>\n",
       "      <td>3449.0</td>\n",
       "      <td>11</td>\n",
       "      <td>1971</td>\n",
       "      <td>0</td>\n",
       "    </tr>\n",
       "    <tr>\n",
       "      <th>3</th>\n",
       "      <td>15.0</td>\n",
       "      <td>8</td>\n",
       "      <td>400.0</td>\n",
       "      <td>150</td>\n",
       "      <td>3761.0</td>\n",
       "      <td>10</td>\n",
       "      <td>1971</td>\n",
       "      <td>0</td>\n",
       "    </tr>\n",
       "    <tr>\n",
       "      <th>4</th>\n",
       "      <td>30.5</td>\n",
       "      <td>4</td>\n",
       "      <td>98.0</td>\n",
       "      <td>63</td>\n",
       "      <td>2051.0</td>\n",
       "      <td>17</td>\n",
       "      <td>1978</td>\n",
       "      <td>0</td>\n",
       "    </tr>\n",
       "    <tr>\n",
       "      <th>5</th>\n",
       "      <td>23.0</td>\n",
       "      <td>8</td>\n",
       "      <td>350.0</td>\n",
       "      <td>125</td>\n",
       "      <td>3900.0</td>\n",
       "      <td>17</td>\n",
       "      <td>1980</td>\n",
       "      <td>0</td>\n",
       "    </tr>\n",
       "  </tbody>\n",
       "</table>\n",
       "</div>"
      ],
      "text/plain": [
       "    mpg   cylinders   cubicinches   hp   weightlbs   time-to-60   year   brand\n",
       "0  14.0           8         350.0  165      4209.0           12   1972       0\n",
       "2  17.0           8         302.0  140      3449.0           11   1971       0\n",
       "3  15.0           8         400.0  150      3761.0           10   1971       0\n",
       "4  30.5           4          98.0   63      2051.0           17   1978       0\n",
       "5  23.0           8         350.0  125      3900.0           17   1980       0"
      ]
     },
     "execution_count": 27,
     "metadata": {},
     "output_type": "execute_result"
    }
   ],
   "source": [
    "df[df[' brand'] == 0].head()"
   ]
  },
  {
   "cell_type": "code",
   "execution_count": 28,
   "metadata": {},
   "outputs": [
    {
     "data": {
      "text/html": [
       "<div>\n",
       "<style scoped>\n",
       "    .dataframe tbody tr th:only-of-type {\n",
       "        vertical-align: middle;\n",
       "    }\n",
       "\n",
       "    .dataframe tbody tr th {\n",
       "        vertical-align: top;\n",
       "    }\n",
       "\n",
       "    .dataframe thead th {\n",
       "        text-align: right;\n",
       "    }\n",
       "</style>\n",
       "<table border=\"1\" class=\"dataframe\">\n",
       "  <thead>\n",
       "    <tr style=\"text-align: right;\">\n",
       "      <th></th>\n",
       "      <th>mpg</th>\n",
       "      <th>cylinders</th>\n",
       "      <th>cubicinches</th>\n",
       "      <th>hp</th>\n",
       "      <th>weightlbs</th>\n",
       "      <th>time-to-60</th>\n",
       "      <th>year</th>\n",
       "      <th>brand</th>\n",
       "    </tr>\n",
       "  </thead>\n",
       "  <tbody>\n",
       "    <tr>\n",
       "      <th>1</th>\n",
       "      <td>31.9</td>\n",
       "      <td>4</td>\n",
       "      <td>89.0</td>\n",
       "      <td>71</td>\n",
       "      <td>1925.0</td>\n",
       "      <td>14</td>\n",
       "      <td>1980</td>\n",
       "      <td>1</td>\n",
       "    </tr>\n",
       "    <tr>\n",
       "      <th>8</th>\n",
       "      <td>25.4</td>\n",
       "      <td>5</td>\n",
       "      <td>183.0</td>\n",
       "      <td>77</td>\n",
       "      <td>3530.0</td>\n",
       "      <td>20</td>\n",
       "      <td>1980</td>\n",
       "      <td>1</td>\n",
       "    </tr>\n",
       "    <tr>\n",
       "      <th>11</th>\n",
       "      <td>34.3</td>\n",
       "      <td>4</td>\n",
       "      <td>97.0</td>\n",
       "      <td>78</td>\n",
       "      <td>2188.0</td>\n",
       "      <td>16</td>\n",
       "      <td>1981</td>\n",
       "      <td>1</td>\n",
       "    </tr>\n",
       "    <tr>\n",
       "      <th>19</th>\n",
       "      <td>24.0</td>\n",
       "      <td>4</td>\n",
       "      <td>107.0</td>\n",
       "      <td>90</td>\n",
       "      <td>2430.0</td>\n",
       "      <td>15</td>\n",
       "      <td>1971</td>\n",
       "      <td>1</td>\n",
       "    </tr>\n",
       "    <tr>\n",
       "      <th>21</th>\n",
       "      <td>21.5</td>\n",
       "      <td>4</td>\n",
       "      <td>121.0</td>\n",
       "      <td>110</td>\n",
       "      <td>2600.0</td>\n",
       "      <td>13</td>\n",
       "      <td>1978</td>\n",
       "      <td>1</td>\n",
       "    </tr>\n",
       "  </tbody>\n",
       "</table>\n",
       "</div>"
      ],
      "text/plain": [
       "     mpg   cylinders   cubicinches   hp   weightlbs   time-to-60   year  \\\n",
       "1   31.9           4          89.0   71      1925.0           14   1980   \n",
       "8   25.4           5         183.0   77      3530.0           20   1980   \n",
       "11  34.3           4          97.0   78      2188.0           16   1981   \n",
       "19  24.0           4         107.0   90      2430.0           15   1971   \n",
       "21  21.5           4         121.0  110      2600.0           13   1978   \n",
       "\n",
       "     brand  \n",
       "1        1  \n",
       "8        1  \n",
       "11       1  \n",
       "19       1  \n",
       "21       1  "
      ]
     },
     "execution_count": 28,
     "metadata": {},
     "output_type": "execute_result"
    }
   ],
   "source": [
    "df[df[' brand'] == 1].head()"
   ]
  },
  {
   "cell_type": "code",
   "execution_count": 29,
   "metadata": {},
   "outputs": [
    {
     "data": {
      "text/html": [
       "<div>\n",
       "<style scoped>\n",
       "    .dataframe tbody tr th:only-of-type {\n",
       "        vertical-align: middle;\n",
       "    }\n",
       "\n",
       "    .dataframe tbody tr th {\n",
       "        vertical-align: top;\n",
       "    }\n",
       "\n",
       "    .dataframe thead th {\n",
       "        text-align: right;\n",
       "    }\n",
       "</style>\n",
       "<table border=\"1\" class=\"dataframe\">\n",
       "  <thead>\n",
       "    <tr style=\"text-align: right;\">\n",
       "      <th></th>\n",
       "      <th>mpg</th>\n",
       "      <th>cylinders</th>\n",
       "      <th>cubicinches</th>\n",
       "      <th>hp</th>\n",
       "      <th>weightlbs</th>\n",
       "      <th>time-to-60</th>\n",
       "      <th>year</th>\n",
       "      <th>brand</th>\n",
       "    </tr>\n",
       "  </thead>\n",
       "  <tbody>\n",
       "    <tr>\n",
       "      <th>9</th>\n",
       "      <td>37.7</td>\n",
       "      <td>4</td>\n",
       "      <td>89.0</td>\n",
       "      <td>62</td>\n",
       "      <td>2050.0</td>\n",
       "      <td>17</td>\n",
       "      <td>1982</td>\n",
       "      <td>2</td>\n",
       "    </tr>\n",
       "    <tr>\n",
       "      <th>10</th>\n",
       "      <td>34.0</td>\n",
       "      <td>4</td>\n",
       "      <td>108.0</td>\n",
       "      <td>70</td>\n",
       "      <td>2245.0</td>\n",
       "      <td>17</td>\n",
       "      <td>1983</td>\n",
       "      <td>2</td>\n",
       "    </tr>\n",
       "    <tr>\n",
       "      <th>16</th>\n",
       "      <td>31.8</td>\n",
       "      <td>4</td>\n",
       "      <td>85.0</td>\n",
       "      <td>65</td>\n",
       "      <td>2020.0</td>\n",
       "      <td>19</td>\n",
       "      <td>1980</td>\n",
       "      <td>2</td>\n",
       "    </tr>\n",
       "    <tr>\n",
       "      <th>18</th>\n",
       "      <td>24.0</td>\n",
       "      <td>4</td>\n",
       "      <td>113.0</td>\n",
       "      <td>95</td>\n",
       "      <td>2278.0</td>\n",
       "      <td>16</td>\n",
       "      <td>1973</td>\n",
       "      <td>2</td>\n",
       "    </tr>\n",
       "    <tr>\n",
       "      <th>20</th>\n",
       "      <td>37.2</td>\n",
       "      <td>4</td>\n",
       "      <td>86.0</td>\n",
       "      <td>65</td>\n",
       "      <td>2019.0</td>\n",
       "      <td>16</td>\n",
       "      <td>1981</td>\n",
       "      <td>2</td>\n",
       "    </tr>\n",
       "  </tbody>\n",
       "</table>\n",
       "</div>"
      ],
      "text/plain": [
       "     mpg   cylinders   cubicinches   hp   weightlbs   time-to-60   year  \\\n",
       "9   37.7           4          89.0   62      2050.0           17   1982   \n",
       "10  34.0           4         108.0   70      2245.0           17   1983   \n",
       "16  31.8           4          85.0   65      2020.0           19   1980   \n",
       "18  24.0           4         113.0   95      2278.0           16   1973   \n",
       "20  37.2           4          86.0   65      2019.0           16   1981   \n",
       "\n",
       "     brand  \n",
       "9        2  \n",
       "10       2  \n",
       "16       2  \n",
       "18       2  \n",
       "20       2  "
      ]
     },
     "execution_count": 29,
     "metadata": {},
     "output_type": "execute_result"
    }
   ],
   "source": [
    "df[df[' brand'] == 2].head()"
   ]
  },
  {
   "cell_type": "code",
   "execution_count": 32,
   "metadata": {},
   "outputs": [],
   "source": [
    "from customtkinter import *"
   ]
  },
  {
   "cell_type": "code",
   "execution_count": 33,
   "metadata": {},
   "outputs": [],
   "source": [
    "def gui_call():\n",
    "    baseplate = CTk()\n",
    "    baseplate.title('Decision tree GUI')\n",
    "    set_appearance_mode('dark')\n",
    "    baseplate.geometry('650x550')\n",
    "    \n",
    "    def answer():\n",
    "        try:\n",
    "            raw_data = np.array([\n",
    "                float(entry_input1.get()),\n",
    "                int(entry_input2.get()),\n",
    "                float(entry_input3.get()),\n",
    "                float(entry_input4.get()),\n",
    "                float(entry_input5.get()),\n",
    "                float(entry_input6.get()),\n",
    "                int(entry_input7.get()),\n",
    "            ]).reshape(1, -1)\n",
    "            print(raw_data)\n",
    "            predict = model.predict(raw_data)[0]\n",
    "            pred_dict = {0 : 'US', 1 :' Europe.', 2:' Japan.'}\n",
    "            print(pred_dict[predict])\n",
    "            label_output.configure(text=f'Prediksi {pred_dict[predict]}', text_color='light green',font=('Arial',14))\n",
    "            \n",
    "        except Exception as e:\n",
    "            print(f'Error occured {e}')\n",
    "            label_output.configure(text=f'Error occured {e}', text_color='red',font=('Arial',14))\n",
    "            \n",
    "    \n",
    "    label_title = CTkLabel(text='Car Country Checker',master=baseplate, font=('Arial', 14))\n",
    "    label_title.place(relx=0.4,rely=0.1)\n",
    "    \n",
    "    label_input1 = CTkLabel(text='Masukkan nilai MPG',master=baseplate, font=('Arial', 12))\n",
    "    label_input1.place(relx=0.05,rely=0.2)\n",
    "    entry_input1 = CTkEntry(placeholder_text='Masukkan nilai MPG',master=baseplate, font=('Arial', 12), width=300)\n",
    "    entry_input1.place(relx=0.30,rely=0.2) \n",
    "    \n",
    "    label_input2 = CTkLabel(text='Masukkan jumlah cylinders',master=baseplate, font=('Arial', 12))\n",
    "    label_input2.place(relx=0.05,rely=0.28)\n",
    "    entry_input2 = CTkEntry(placeholder_text='Masukkan jumlah cylinders mobil',master=baseplate, font=('Arial', 12), width=300)\n",
    "    entry_input2.place(relx=0.30,rely=0.28)\n",
    "    \n",
    "    label_input3 = CTkLabel(text='Masukkan jumlah in^3',master=baseplate, font=('Arial', 12))\n",
    "    label_input3.place(relx=0.05,rely=0.36)\n",
    "    entry_input3 = CTkEntry(placeholder_text='Masukkan jumlah in^3',master=baseplate, font=('Arial', 12), width=300)\n",
    "    entry_input3.place(relx=0.30,rely=0.36)\n",
    "    \n",
    "    label_input4 = CTkLabel(text='Masukkan jumlah horsepower',master=baseplate, font=('Arial', 12))\n",
    "    label_input4.place(relx=0.05,rely=0.44)\n",
    "    entry_input4 = CTkEntry(placeholder_text='Masukkan jumlah horsepower',master=baseplate, font=('Arial', 12), width=300)\n",
    "    entry_input4.place(relx=0.30,rely=0.44)\n",
    "    \n",
    "    label_input5 = CTkLabel(text='Masukkan berat mobil lbs',master=baseplate, font=('Arial', 12))\n",
    "    label_input5.place(relx=0.05,rely=0.52)\n",
    "    entry_input5 = CTkEntry(placeholder_text='Masukkan berat mobil lbs',master=baseplate, font=('Arial', 12), width=300)\n",
    "    entry_input5.place(relx=0.30,rely=0.52)\n",
    "    \n",
    "    label_input6 = CTkLabel(text='Masukkan time to 60',master=baseplate, font=('Arial', 12))\n",
    "    label_input6.place(relx=0.05,rely=0.60)\n",
    "    entry_input6 = CTkEntry(placeholder_text='Masukkan time to 60',master=baseplate, font=('Arial', 12), width=300)\n",
    "    entry_input6.place(relx=0.30,rely=0.60)\n",
    "    \n",
    "    label_input7 = CTkLabel(text='Masukkan tahun mobil dibuat',master=baseplate, font=('Arial', 12))\n",
    "    label_input7.place(relx=0.05,rely=0.68)\n",
    "    entry_input7 = CTkEntry(placeholder_text='Masukkan tahun mobil dibuat',master=baseplate, font=('Arial', 12), width=300)\n",
    "    entry_input7.place(relx=0.30,rely=0.68)\n",
    "    \n",
    "    btn = CTkButton(text='Enter' ,master=baseplate, fg_color='green', command=answer)\n",
    "    btn.place(relx=0.3,rely=0.76)\n",
    "    \n",
    "    label_output = CTkLabel(master=baseplate, text='', font=('Arial',14), text_color='red')\n",
    "    label_output.place(relx=0.3,rely=0.85)\n",
    "\n",
    "    baseplate.mainloop()"
   ]
  },
  {
   "cell_type": "code",
   "execution_count": 34,
   "metadata": {},
   "outputs": [
    {
     "name": "stdout",
     "output_type": "stream",
     "text": [
      "[[  23.    8.  350.  125. 3900.   17. 1980.]]\n",
      "US\n",
      "[[  21.5    4.   121.   110.  2600.    13.  1978. ]]\n",
      " Europe.\n",
      "[[  37.2    4.    86.    65.  2019.    16.  1981. ]]\n",
      " Japan.\n"
     ]
    }
   ],
   "source": [
    "gui_call()"
   ]
  }
 ],
 "metadata": {
  "kernelspec": {
   "display_name": "Python 3",
   "language": "python",
   "name": "python3"
  },
  "language_info": {
   "codemirror_mode": {
    "name": "ipython",
    "version": 3
   },
   "file_extension": ".py",
   "mimetype": "text/x-python",
   "name": "python",
   "nbconvert_exporter": "python",
   "pygments_lexer": "ipython3",
   "version": "3.13.0"
  }
 },
 "nbformat": 4,
 "nbformat_minor": 2
}
